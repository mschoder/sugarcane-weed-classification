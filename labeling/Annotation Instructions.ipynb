{
 "cells": [
  {
   "cell_type": "markdown",
   "metadata": {},
   "source": [
    "## 1. Install VGG Image Annotator\n",
    "http://www.robots.ox.ac.uk/~vgg/software/via/"
   ]
  },
  {
   "cell_type": "markdown",
   "metadata": {},
   "source": [
    "## 2. Configure locally\n",
    "- run the local HTML version\n",
    "- set up project by sourcing image dir(s) to be labeled; configure project filename\n",
    "- set up labels like this:\n",
    "<img src=\"vgg_config.png\" width=\"200\"/>\n",
    "- in settings you can change to display the label above each box (sanity check)\n",
    "- can also set it so the radio button pops up right next to the box after you create/select it\n",
    "- go through and label all the images\n",
    "- periodically save and export your labels as json"
   ]
  },
  {
   "cell_type": "markdown",
   "metadata": {},
   "source": [
    "## 3. Split files"
   ]
  },
  {
   "cell_type": "code",
   "execution_count": 82,
   "metadata": {},
   "outputs": [
    {
     "name": "stdout",
     "output_type": "stream",
     "text": [
      "The autoreload extension is already loaded. To reload it, use:\n",
      "  %reload_ext autoreload\n"
     ]
    }
   ],
   "source": [
    "%load_ext autoreload\n",
    "%autoreload 2\n",
    "%matplotlib inline\n",
    "\n",
    "import numpy as np\n",
    "import pathlib\n",
    "import shutil\n",
    "import cv2"
   ]
  },
  {
   "cell_type": "code",
   "execution_count": 49,
   "metadata": {},
   "outputs": [
    {
     "name": "stdout",
     "output_type": "stream",
     "text": [
      "sugarcane images: 869\n",
      "weeds images: 856\n",
      "joint images: 415\n"
     ]
    }
   ],
   "source": [
    "# change this to your main directory of raw images\n",
    "# verify that inside the structure has the three subdirectories listed with the below structure\n",
    "raw_img_root = '../../raw_images/'\n",
    "\n",
    "dirs = {'sugarcane':'raw_class_images/sugarcane', \n",
    "        'weeds':'raw_class_images/weeds',\n",
    "        'joint':'SugarcaneWeeds'}\n",
    "data_dirs = {x: pathlib.Path(raw_img_root + dirs[x]) for x in dirs.keys()}\n",
    "img_counts = {x: len(list(data_dirs[x].glob('*.jpg'))) for x in dirs.keys()}\n",
    "for x in dirs.keys():\n",
    "    print(f'%s images: %d'%(x, img_counts[x]))\n",
    "    \n",
    "    \n",
    "# Shuffle files - seed to make it consistent\n",
    "np.random.seed(32)\n",
    "file_lists = {x: sorted(list(data_dirs['joint'].glob('*.jpg'))) for x in dirs.keys()}\n",
    "for x in dirs.keys():\n",
    "    np.random.shuffle(file_lists[x])"
   ]
  },
  {
   "cell_type": "code",
   "execution_count": 65,
   "metadata": {},
   "outputs": [],
   "source": [
    "# desired image counts\n",
    "label_counts = {'sugarcane': 100,\n",
    "               'weeds': 100,\n",
    "               'joint': 200}\n",
    "label_paths = {x: file_lists[x][:label_counts[x]] for x in dirs.keys()}\n",
    "\n",
    "files_a = {x: label_paths[x][:len(label_paths[x])//2] for x in dirs.keys()}\n",
    "files_b = {x: label_paths[x][len(label_paths[x])//2:] for x in dirs.keys()}"
   ]
  },
  {
   "cell_type": "markdown",
   "metadata": {},
   "source": [
    "## 4. Copy files to a new directory (careful, do this once)"
   ]
  },
  {
   "cell_type": "code",
   "execution_count": 85,
   "metadata": {},
   "outputs": [],
   "source": [
    "# Mike --> files_a; Cody --> files_b (change this below)\n",
    "\n",
    "# input your destination directory. set up three empty subdirs: 'sugarcane', 'weeds, 'joint'"
   ]
  },
  {
   "cell_type": "code",
   "execution_count": 92,
   "metadata": {},
   "outputs": [],
   "source": [
    "# Randomly select a fixed number of images from each directory\n",
    "dest_dir = '/Users/mschoder/weeding_project/box_label_task'\n",
    "\n",
    "for x in dirs.keys():\n",
    "    for file in files_a[x]:\n",
    "        shutil.copyfile(file, dest_dir+'/'+x+'/'+file.name)\n"
   ]
  },
  {
   "cell_type": "code",
   "execution_count": null,
   "metadata": {},
   "outputs": [],
   "source": []
  },
  {
   "cell_type": "code",
   "execution_count": null,
   "metadata": {},
   "outputs": [],
   "source": []
  }
 ],
 "metadata": {
  "kernelspec": {
   "display_name": "Python 3",
   "language": "python",
   "name": "python3"
  },
  "language_info": {
   "codemirror_mode": {
    "name": "ipython",
    "version": 3
   },
   "file_extension": ".py",
   "mimetype": "text/x-python",
   "name": "python",
   "nbconvert_exporter": "python",
   "pygments_lexer": "ipython3",
   "version": "3.7.4"
  }
 },
 "nbformat": 4,
 "nbformat_minor": 4
}
