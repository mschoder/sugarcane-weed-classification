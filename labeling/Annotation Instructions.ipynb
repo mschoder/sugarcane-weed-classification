{
 "cells": [
  {
   "cell_type": "markdown",
   "metadata": {},
   "source": [
    "## 1. Install VGG Image Annotator\n",
    "http://www.robots.ox.ac.uk/~vgg/software/via/"
   ]
  },
  {
   "cell_type": "markdown",
   "metadata": {},
   "source": [
    "## 2. Configure locally\n",
    "- run the local HTML version\n",
    "- set up project by sourcing image dir(s) to be labeled; configure project filename\n",
    "- set up labels like this:\n",
    "<img src=\"vgg_config.png\" width=\"200\"/>\n",
    "- in settings you can change to display the label above each box (sanity check)\n",
    "- can also set it so the radio button pops up right next to the box after you create/select it\n",
    "- go through and label all the images\n",
    "- periodically save and export your labels as json"
   ]
  },
  {
   "cell_type": "markdown",
   "metadata": {},
   "source": [
    "## 3. Split files"
   ]
  },
  {
   "cell_type": "code",
   "execution_count": 10,
   "metadata": {},
   "outputs": [
    {
     "name": "stdout",
     "output_type": "stream",
     "text": [
      "The autoreload extension is already loaded. To reload it, use:\n",
      "  %reload_ext autoreload\n"
     ]
    }
   ],
   "source": [
    "%load_ext autoreload\n",
    "%autoreload 2\n",
    "%matplotlib inline\n",
    "\n",
    "import numpy as np\n",
    "import pathlib\n",
    "import shutil\n",
    "import cv2\n",
    "import json"
   ]
  },
  {
   "cell_type": "code",
   "execution_count": 2,
   "metadata": {},
   "outputs": [
    {
     "name": "stdout",
     "output_type": "stream",
     "text": [
      "sugarcane images: 869\n",
      "weeds images: 856\n",
      "joint images: 415\n"
     ]
    }
   ],
   "source": [
    "# change this to your main directory of raw images\n",
    "# verify that inside the structure has the three subdirectories listed with the below structure\n",
    "raw_img_root = '../../raw_images/'\n",
    "\n",
    "dirs = {'sugarcane':'raw_class_images/sugarcane', \n",
    "        'weeds':'raw_class_images/weeds',\n",
    "        'joint':'SugarcaneWeeds'}\n",
    "data_dirs = {x: pathlib.Path(raw_img_root + dirs[x]) for x in dirs.keys()}\n",
    "img_counts = {x: len(list(data_dirs[x].glob('*.jpg'))) for x in dirs.keys()}\n",
    "for x in dirs.keys():\n",
    "    print(f'%s images: %d'%(x, img_counts[x]))\n",
    "    \n",
    "    \n",
    "# Shuffle files - seed to make it consistent\n",
    "np.random.seed(32)\n",
    "file_lists = {x: sorted(list(data_dirs[x].glob('*.jpg'))) for x in dirs.keys()}\n",
    "for x in dirs.keys():\n",
    "    np.random.shuffle(file_lists[x])"
   ]
  },
  {
   "cell_type": "code",
   "execution_count": 3,
   "metadata": {},
   "outputs": [],
   "source": [
    "# desired image counts\n",
    "label_counts = {'sugarcane': 100,\n",
    "               'weeds': 100,\n",
    "               'joint': 200}\n",
    "label_paths = {x: file_lists[x][:label_counts[x]] for x in dirs.keys()}\n",
    "\n",
    "files_a = {x: label_paths[x][:len(label_paths[x])//2] for x in dirs.keys()}\n",
    "files_b = {x: label_paths[x][len(label_paths[x])//2:] for x in dirs.keys()}"
   ]
  },
  {
   "cell_type": "markdown",
   "metadata": {},
   "source": [
    "## 4. Copy files to a new directory (careful, do this once)"
   ]
  },
  {
   "cell_type": "code",
   "execution_count": 8,
   "metadata": {},
   "outputs": [],
   "source": [
    "# Mike --> files_a; Cody --> files_b (change this below)\n",
    "\n",
    "# input your destination directory. set up three empty subdirs: 'sugarcane', 'weeds, 'joint'"
   ]
  },
  {
   "cell_type": "code",
   "execution_count": 9,
   "metadata": {},
   "outputs": [],
   "source": [
    "# Randomly select a fixed number of images from each directory\n",
    "dest_dir = '/Users/mschoder/weeding_project/box_label_task_b'\n",
    "\n",
    "for x in dirs.keys():\n",
    "    for file in files_b[x]:\n",
    "        shutil.copyfile(file, dest_dir+'/'+x+'/'+file.name)\n"
   ]
  },
  {
   "cell_type": "markdown",
   "metadata": {},
   "source": [
    "## 5. Post-Labeling -- Merge Labels into single file"
   ]
  },
  {
   "cell_type": "code",
   "execution_count": 93,
   "metadata": {},
   "outputs": [],
   "source": [
    "labels_a_path = './labels_a.json'\n",
    "labels_b_path = './labels_b.json'\n",
    "\n",
    "with open(labels_a_path) as f:\n",
    "    labels_a = json.load(f)\n",
    "\n",
    "with open(labels_b_path) as f:\n",
    "    labels_b = json.load(f)\n",
    "\n",
    "labels_a = labels_a['_via_img_metadata']\n",
    "labels_b = labels_b['_via_img_metadata']"
   ]
  },
  {
   "cell_type": "code",
   "execution_count": 108,
   "metadata": {},
   "outputs": [
    {
     "name": "stdout",
     "output_type": "stream",
     "text": [
      "Unique labeled images:  385\n"
     ]
    }
   ],
   "source": [
    "# remove duplicate labeled images before merge\n",
    "dupe_labels_b = set(labels_b) & set(labels_a)\n",
    "for uk in dupe_labels_b:\n",
    "    del labels_b[uk]\n",
    "# Merge\n",
    "labels_dict_tmp = {**labels_a, **labels_b}\n",
    "print(\"Unique labeled images: \", len(labels_dict.keys()))\n",
    "\n",
    "# clean keys as they are already unique on image filenames (presume ixxxx.jpg structure)\n",
    "labels_dict = {}\n",
    "for k,v in labels_dict_tmp.items():\n",
    "    k_new = k[:9]\n",
    "    labels_dict[k_new] = v"
   ]
  },
  {
   "cell_type": "code",
   "execution_count": 120,
   "metadata": {},
   "outputs": [],
   "source": [
    "# Verify no unlabeled images\n",
    "for k,v in labels_dict.items():\n",
    "    if (v['regions'] is None or len(v['regions']) == 0):\n",
    "        print(k)"
   ]
  },
  {
   "cell_type": "code",
   "execution_count": 114,
   "metadata": {},
   "outputs": [
    {
     "data": {
      "text/plain": [
       "{'filename': 'i2825.jpg',\n",
       " 'size': 5877352,\n",
       " 'regions': [{'shape_attributes': {'name': 'rect',\n",
       "    'x': 15,\n",
       "    'y': 46,\n",
       "    'width': 739,\n",
       "    'height': 728},\n",
       "   'region_attributes': {'label': 'weed'}},\n",
       "  {'shape_attributes': {'name': 'rect',\n",
       "    'x': 1605,\n",
       "    'y': 12,\n",
       "    'width': 2464,\n",
       "    'height': 1421},\n",
       "   'region_attributes': {'label': 'weed'}},\n",
       "  {'shape_attributes': {'name': 'rect',\n",
       "    'x': 1143,\n",
       "    'y': 96,\n",
       "    'width': 527,\n",
       "    'height': 431},\n",
       "   'region_attributes': {'label': 'weed'}},\n",
       "  {'shape_attributes': {'name': 'rect',\n",
       "    'x': 31,\n",
       "    'y': 631,\n",
       "    'width': 1979,\n",
       "    'height': 2060},\n",
       "   'region_attributes': {'label': 'sugarcane'}},\n",
       "  {'shape_attributes': {'name': 'rect',\n",
       "    'x': 1748,\n",
       "    'y': 1370,\n",
       "    'width': 2310,\n",
       "    'height': 1678},\n",
       "   'region_attributes': {'label': 'sugarcane'}},\n",
       "  {'shape_attributes': {'name': 'rect',\n",
       "    'x': 4131,\n",
       "    'y': 73,\n",
       "    'width': 447,\n",
       "    'height': 1752},\n",
       "   'region_attributes': {'label': 'sugarcane'}}],\n",
       " 'file_attributes': {}}"
      ]
     },
     "execution_count": 114,
     "metadata": {},
     "output_type": "execute_result"
    }
   ],
   "source": [
    "# Example data structure\n",
    "labels_dict['i2825.jpg']"
   ]
  },
  {
   "cell_type": "code",
   "execution_count": 115,
   "metadata": {},
   "outputs": [],
   "source": [
    "# write out to clean json\n",
    "with open(\"labels.json\", \"w\") as outfile:  \n",
    "    json.dump(labels_dict, outfile) "
   ]
  },
  {
   "cell_type": "markdown",
   "metadata": {},
   "source": [
    "## 6. Match labeled files from raw images and copy into a new dir \n",
    "(since we messed up our labeling) "
   ]
  },
  {
   "cell_type": "code",
   "execution_count": 113,
   "metadata": {},
   "outputs": [],
   "source": [
    "labeled_files = [v['filename'] for k,v in labels_dict.items()]\n",
    "all_filepaths = file_lists['sugarcane'] + file_lists['weeds'] + file_lists['joint']\n",
    "\n",
    "labeled_img_paths = [path for path in all_filepaths if path.name in set(labeled_files)]"
   ]
  },
  {
   "cell_type": "code",
   "execution_count": 106,
   "metadata": {},
   "outputs": [],
   "source": [
    "dest_dir = '/Users/mschoder/weeding_project/box_labeled_data/jpg_images'\n",
    "for file in labeled_img_paths:\n",
    "    shutil.copyfile(file, dest_dir+'/'+file.name)"
   ]
  },
  {
   "cell_type": "markdown",
   "metadata": {},
   "source": [
    "## 7. Build separate dataset + labels for weed-only detections\n",
    "(exclude sugarcane only images)"
   ]
  },
  {
   "cell_type": "code",
   "execution_count": 127,
   "metadata": {},
   "outputs": [],
   "source": [
    "weed_labels_dict = {}\n",
    "for k,v in labels_dict.items():\n",
    "    box_dict = v['regions']\n",
    "    if 'weed' in set([x['region_attributes']['label'] for x in box_dict]):\n",
    "        weed_labels_dict[k] = v\n",
    "    \n",
    "# write out to clean json\n",
    "with open(\"weed_labels.json\", \"w\") as outfile:  \n",
    "    json.dump(labels_dict, outfile) \n",
    "    "
   ]
  },
  {
   "cell_type": "code",
   "execution_count": 128,
   "metadata": {},
   "outputs": [],
   "source": [
    "# Match corresponding images and save to the weeds_only dir\n",
    "labeled_files = [v['filename'] for k,v in weed_labels_dict.items()]\n",
    "all_filepaths = file_lists['weeds'] + file_lists['joint']\n",
    "labeled_img_paths = [path for path in all_filepaths if path.name in set(labeled_files)]\n",
    "\n",
    "dest_dir = '/Users/mschoder/weeding_project/box_labeled_data/jpg_images_allweeds'\n",
    "for file in labeled_img_paths:\n",
    "    shutil.copyfile(file, dest_dir+'/'+file.name)"
   ]
  },
  {
   "cell_type": "code",
   "execution_count": null,
   "metadata": {},
   "outputs": [],
   "source": []
  }
 ],
 "metadata": {
  "kernelspec": {
   "display_name": "Python 3",
   "language": "python",
   "name": "python3"
  },
  "language_info": {
   "codemirror_mode": {
    "name": "ipython",
    "version": 3
   },
   "file_extension": ".py",
   "mimetype": "text/x-python",
   "name": "python",
   "nbconvert_exporter": "python",
   "pygments_lexer": "ipython3",
   "version": "3.7.4"
  }
 },
 "nbformat": 4,
 "nbformat_minor": 4
}
